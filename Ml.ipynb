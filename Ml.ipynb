{
 "cells": [
  {
   "cell_type": "code",
   "execution_count": 1,
   "id": "d6842136",
   "metadata": {},
   "outputs": [],
   "source": [
    "import numpy as np \n",
    "import pandas as pd \n",
    "import matplotlib.pyplot as plt \n",
    "import seaborn as sns \n",
    "from sklearn.preprocessing import LabelEncoder\n",
    "from sklearn.preprocessing import StandardScaler\n",
    "from sklearn.neighbors import KNeighborsClassifier\n",
    "from sklearn.metrics import (\n",
    "    accuracy_score,\n",
    "    precision_score,\n",
    "    recall_score,\n",
    "    f1_score,\n",
    "    classification_report,\n",
    "    confusion_matrix,\n",
    "    ConfusionMatrixDisplay,\n",
    "    roc_auc_score,\n",
    "    roc_curve,\n",
    "    auc\n",
    ")"
   ]
  },
  {
   "cell_type": "code",
   "execution_count": 2,
   "id": "8732e298",
   "metadata": {},
   "outputs": [
    {
     "data": {
      "text/html": [
       "<div>\n",
       "<style scoped>\n",
       "    .dataframe tbody tr th:only-of-type {\n",
       "        vertical-align: middle;\n",
       "    }\n",
       "\n",
       "    .dataframe tbody tr th {\n",
       "        vertical-align: top;\n",
       "    }\n",
       "\n",
       "    .dataframe thead th {\n",
       "        text-align: right;\n",
       "    }\n",
       "</style>\n",
       "<table border=\"1\" class=\"dataframe\">\n",
       "  <thead>\n",
       "    <tr style=\"text-align: right;\">\n",
       "      <th></th>\n",
       "      <th>Source_IP</th>\n",
       "      <th>Destination_IP</th>\n",
       "      <th>Port</th>\n",
       "      <th>Request_Type</th>\n",
       "      <th>Protocol</th>\n",
       "      <th>Payload_Size</th>\n",
       "      <th>User_Agent</th>\n",
       "      <th>Status</th>\n",
       "      <th>Intrusion</th>\n",
       "      <th>Scan_Type</th>\n",
       "    </tr>\n",
       "  </thead>\n",
       "  <tbody>\n",
       "    <tr>\n",
       "      <th>0</th>\n",
       "      <td>192.168.142.55</td>\n",
       "      <td>42.156.67.167</td>\n",
       "      <td>80</td>\n",
       "      <td>FTP</td>\n",
       "      <td>UDP</td>\n",
       "      <td>2369</td>\n",
       "      <td>curl/7.68.0</td>\n",
       "      <td>Success</td>\n",
       "      <td>0</td>\n",
       "      <td>Normal</td>\n",
       "    </tr>\n",
       "    <tr>\n",
       "      <th>1</th>\n",
       "      <td>53.39.165.18</td>\n",
       "      <td>94.60.242.119</td>\n",
       "      <td>135</td>\n",
       "      <td>SMTP</td>\n",
       "      <td>UDP</td>\n",
       "      <td>1536</td>\n",
       "      <td>Wget/1.20.3</td>\n",
       "      <td>Failure</td>\n",
       "      <td>1</td>\n",
       "      <td>BotAttack</td>\n",
       "    </tr>\n",
       "    <tr>\n",
       "      <th>2</th>\n",
       "      <td>192.168.127.91</td>\n",
       "      <td>7.10.192.3</td>\n",
       "      <td>21</td>\n",
       "      <td>SMTP</td>\n",
       "      <td>TCP</td>\n",
       "      <td>1183</td>\n",
       "      <td>Wget/1.20.3</td>\n",
       "      <td>Success</td>\n",
       "      <td>0</td>\n",
       "      <td>Normal</td>\n",
       "    </tr>\n",
       "    <tr>\n",
       "      <th>3</th>\n",
       "      <td>192.168.30.40</td>\n",
       "      <td>130.169.82.211</td>\n",
       "      <td>25</td>\n",
       "      <td>HTTPS</td>\n",
       "      <td>TCP</td>\n",
       "      <td>666</td>\n",
       "      <td>Mozilla/5.0</td>\n",
       "      <td>Success</td>\n",
       "      <td>0</td>\n",
       "      <td>Normal</td>\n",
       "    </tr>\n",
       "    <tr>\n",
       "      <th>4</th>\n",
       "      <td>192.168.43.179</td>\n",
       "      <td>35.140.102.220</td>\n",
       "      <td>22</td>\n",
       "      <td>FTP</td>\n",
       "      <td>TCP</td>\n",
       "      <td>2821</td>\n",
       "      <td>Mozilla/5.0</td>\n",
       "      <td>Success</td>\n",
       "      <td>0</td>\n",
       "      <td>Normal</td>\n",
       "    </tr>\n",
       "  </tbody>\n",
       "</table>\n",
       "</div>"
      ],
      "text/plain": [
       "        Source_IP  Destination_IP  Port Request_Type Protocol  Payload_Size  \\\n",
       "0  192.168.142.55   42.156.67.167    80          FTP      UDP          2369   \n",
       "1    53.39.165.18   94.60.242.119   135         SMTP      UDP          1536   \n",
       "2  192.168.127.91      7.10.192.3    21         SMTP      TCP          1183   \n",
       "3   192.168.30.40  130.169.82.211    25        HTTPS      TCP           666   \n",
       "4  192.168.43.179  35.140.102.220    22          FTP      TCP          2821   \n",
       "\n",
       "    User_Agent   Status  Intrusion  Scan_Type  \n",
       "0  curl/7.68.0  Success          0     Normal  \n",
       "1  Wget/1.20.3  Failure          1  BotAttack  \n",
       "2  Wget/1.20.3  Success          0     Normal  \n",
       "3  Mozilla/5.0  Success          0     Normal  \n",
       "4  Mozilla/5.0  Success          0     Normal  "
      ]
     },
     "execution_count": 2,
     "metadata": {},
     "output_type": "execute_result"
    }
   ],
   "source": [
    "df = pd.read_csv(\"Network_logs.csv\")\n",
    "df.head()"
   ]
  },
  {
   "cell_type": "markdown",
   "id": "64910400",
   "metadata": {},
   "source": [
    "DATA ANALYSIS"
   ]
  },
  {
   "cell_type": "code",
   "execution_count": 3,
   "id": "e2a30c9c",
   "metadata": {},
   "outputs": [
    {
     "data": {
      "text/plain": [
       "Source_IP         0\n",
       "Destination_IP    0\n",
       "Port              0\n",
       "Request_Type      0\n",
       "Protocol          0\n",
       "Payload_Size      0\n",
       "User_Agent        0\n",
       "Status            0\n",
       "Intrusion         0\n",
       "Scan_Type         0\n",
       "dtype: int64"
      ]
     },
     "execution_count": 3,
     "metadata": {},
     "output_type": "execute_result"
    }
   ],
   "source": [
    "df.isnull().sum()"
   ]
  },
  {
   "cell_type": "code",
   "execution_count": 4,
   "id": "2cf68298",
   "metadata": {},
   "outputs": [
    {
     "data": {
      "text/plain": [
       "Source_IP         object\n",
       "Destination_IP    object\n",
       "Port               int64\n",
       "Request_Type      object\n",
       "Protocol          object\n",
       "Payload_Size       int64\n",
       "User_Agent        object\n",
       "Status            object\n",
       "Intrusion          int64\n",
       "Scan_Type         object\n",
       "dtype: object"
      ]
     },
     "execution_count": 4,
     "metadata": {},
     "output_type": "execute_result"
    }
   ],
   "source": [
    "df.dtypes"
   ]
  },
  {
   "cell_type": "code",
   "execution_count": 5,
   "id": "d1c7845b",
   "metadata": {},
   "outputs": [
    {
     "name": "stdout",
     "output_type": "stream",
     "text": [
      "<class 'pandas.core.frame.DataFrame'>\n",
      "RangeIndex: 8846 entries, 0 to 8845\n",
      "Data columns (total 10 columns):\n",
      " #   Column          Non-Null Count  Dtype \n",
      "---  ------          --------------  ----- \n",
      " 0   Source_IP       8846 non-null   object\n",
      " 1   Destination_IP  8846 non-null   object\n",
      " 2   Port            8846 non-null   int64 \n",
      " 3   Request_Type    8846 non-null   object\n",
      " 4   Protocol        8846 non-null   object\n",
      " 5   Payload_Size    8846 non-null   int64 \n",
      " 6   User_Agent      8846 non-null   object\n",
      " 7   Status          8846 non-null   object\n",
      " 8   Intrusion       8846 non-null   int64 \n",
      " 9   Scan_Type       8846 non-null   object\n",
      "dtypes: int64(3), object(7)\n",
      "memory usage: 691.2+ KB\n"
     ]
    },
    {
     "data": {
      "text/html": [
       "<div>\n",
       "<style scoped>\n",
       "    .dataframe tbody tr th:only-of-type {\n",
       "        vertical-align: middle;\n",
       "    }\n",
       "\n",
       "    .dataframe tbody tr th {\n",
       "        vertical-align: top;\n",
       "    }\n",
       "\n",
       "    .dataframe thead th {\n",
       "        text-align: right;\n",
       "    }\n",
       "</style>\n",
       "<table border=\"1\" class=\"dataframe\">\n",
       "  <thead>\n",
       "    <tr style=\"text-align: right;\">\n",
       "      <th></th>\n",
       "      <th>Port</th>\n",
       "      <th>Payload_Size</th>\n",
       "      <th>Intrusion</th>\n",
       "    </tr>\n",
       "  </thead>\n",
       "  <tbody>\n",
       "    <tr>\n",
       "      <th>count</th>\n",
       "      <td>8846.000000</td>\n",
       "      <td>8846.000000</td>\n",
       "      <td>8846.000000</td>\n",
       "    </tr>\n",
       "    <tr>\n",
       "      <th>mean</th>\n",
       "      <td>887.127741</td>\n",
       "      <td>1598.762831</td>\n",
       "      <td>0.095636</td>\n",
       "    </tr>\n",
       "    <tr>\n",
       "      <th>std</th>\n",
       "      <td>4042.073308</td>\n",
       "      <td>915.615023</td>\n",
       "      <td>0.294109</td>\n",
       "    </tr>\n",
       "    <tr>\n",
       "      <th>min</th>\n",
       "      <td>21.000000</td>\n",
       "      <td>0.000000</td>\n",
       "      <td>0.000000</td>\n",
       "    </tr>\n",
       "    <tr>\n",
       "      <th>25%</th>\n",
       "      <td>22.000000</td>\n",
       "      <td>836.250000</td>\n",
       "      <td>0.000000</td>\n",
       "    </tr>\n",
       "    <tr>\n",
       "      <th>50%</th>\n",
       "      <td>53.000000</td>\n",
       "      <td>1580.000000</td>\n",
       "      <td>0.000000</td>\n",
       "    </tr>\n",
       "    <tr>\n",
       "      <th>75%</th>\n",
       "      <td>80.000000</td>\n",
       "      <td>2326.000000</td>\n",
       "      <td>0.000000</td>\n",
       "    </tr>\n",
       "    <tr>\n",
       "      <th>max</th>\n",
       "      <td>31337.000000</td>\n",
       "      <td>4997.000000</td>\n",
       "      <td>1.000000</td>\n",
       "    </tr>\n",
       "  </tbody>\n",
       "</table>\n",
       "</div>"
      ],
      "text/plain": [
       "               Port  Payload_Size    Intrusion\n",
       "count   8846.000000   8846.000000  8846.000000\n",
       "mean     887.127741   1598.762831     0.095636\n",
       "std     4042.073308    915.615023     0.294109\n",
       "min       21.000000      0.000000     0.000000\n",
       "25%       22.000000    836.250000     0.000000\n",
       "50%       53.000000   1580.000000     0.000000\n",
       "75%       80.000000   2326.000000     0.000000\n",
       "max    31337.000000   4997.000000     1.000000"
      ]
     },
     "execution_count": 5,
     "metadata": {},
     "output_type": "execute_result"
    }
   ],
   "source": [
    "df.info()\n",
    "df.describe()"
   ]
  },
  {
   "cell_type": "code",
   "execution_count": 6,
   "id": "aa7ff95c",
   "metadata": {},
   "outputs": [
    {
     "data": {
      "text/plain": [
       "Index(['Source_IP', 'Destination_IP', 'Port', 'Request_Type', 'Protocol',\n",
       "       'Payload_Size', 'User_Agent', 'Status', 'Intrusion', 'Scan_Type'],\n",
       "      dtype='object')"
      ]
     },
     "execution_count": 6,
     "metadata": {},
     "output_type": "execute_result"
    }
   ],
   "source": [
    "df.columns"
   ]
  },
  {
   "cell_type": "code",
   "execution_count": 7,
   "id": "71c58cfd",
   "metadata": {},
   "outputs": [
    {
     "data": {
      "text/plain": [
       "Scan_Type\n",
       "Normal       8000\n",
       "BotAttack     478\n",
       "PortScan      368\n",
       "Name: count, dtype: int64"
      ]
     },
     "execution_count": 7,
     "metadata": {},
     "output_type": "execute_result"
    }
   ],
   "source": [
    "df[\"Scan_Type\"].value_counts()"
   ]
  },
  {
   "cell_type": "markdown",
   "id": "1ad67259",
   "metadata": {},
   "source": [
    "DATA PREPROCESSING"
   ]
  },
  {
   "cell_type": "code",
   "execution_count": 8,
   "id": "4d72ba8e",
   "metadata": {},
   "outputs": [
    {
     "data": {
      "text/html": [
       "<div>\n",
       "<style scoped>\n",
       "    .dataframe tbody tr th:only-of-type {\n",
       "        vertical-align: middle;\n",
       "    }\n",
       "\n",
       "    .dataframe tbody tr th {\n",
       "        vertical-align: top;\n",
       "    }\n",
       "\n",
       "    .dataframe thead th {\n",
       "        text-align: right;\n",
       "    }\n",
       "</style>\n",
       "<table border=\"1\" class=\"dataframe\">\n",
       "  <thead>\n",
       "    <tr style=\"text-align: right;\">\n",
       "      <th></th>\n",
       "      <th>Source_IP</th>\n",
       "      <th>Destination_IP</th>\n",
       "      <th>Port</th>\n",
       "      <th>Request_Type</th>\n",
       "      <th>Protocol</th>\n",
       "      <th>Payload_Size</th>\n",
       "      <th>User_Agent</th>\n",
       "      <th>Status</th>\n",
       "      <th>Intrusion</th>\n",
       "      <th>Scan_Type</th>\n",
       "    </tr>\n",
       "  </thead>\n",
       "  <tbody>\n",
       "    <tr>\n",
       "      <th>0</th>\n",
       "      <td>192.168.142.55</td>\n",
       "      <td>42.156.67.167</td>\n",
       "      <td>80</td>\n",
       "      <td>FTP</td>\n",
       "      <td>UDP</td>\n",
       "      <td>2369</td>\n",
       "      <td>curl/7.68.0</td>\n",
       "      <td>Success</td>\n",
       "      <td>0</td>\n",
       "      <td>Normal</td>\n",
       "    </tr>\n",
       "    <tr>\n",
       "      <th>1</th>\n",
       "      <td>53.39.165.18</td>\n",
       "      <td>94.60.242.119</td>\n",
       "      <td>135</td>\n",
       "      <td>SMTP</td>\n",
       "      <td>UDP</td>\n",
       "      <td>1536</td>\n",
       "      <td>Wget/1.20.3</td>\n",
       "      <td>Failure</td>\n",
       "      <td>1</td>\n",
       "      <td>BotAttack</td>\n",
       "    </tr>\n",
       "    <tr>\n",
       "      <th>2</th>\n",
       "      <td>192.168.127.91</td>\n",
       "      <td>7.10.192.3</td>\n",
       "      <td>21</td>\n",
       "      <td>SMTP</td>\n",
       "      <td>TCP</td>\n",
       "      <td>1183</td>\n",
       "      <td>Wget/1.20.3</td>\n",
       "      <td>Success</td>\n",
       "      <td>0</td>\n",
       "      <td>Normal</td>\n",
       "    </tr>\n",
       "    <tr>\n",
       "      <th>3</th>\n",
       "      <td>192.168.30.40</td>\n",
       "      <td>130.169.82.211</td>\n",
       "      <td>25</td>\n",
       "      <td>HTTPS</td>\n",
       "      <td>TCP</td>\n",
       "      <td>666</td>\n",
       "      <td>Mozilla/5.0</td>\n",
       "      <td>Success</td>\n",
       "      <td>0</td>\n",
       "      <td>Normal</td>\n",
       "    </tr>\n",
       "    <tr>\n",
       "      <th>4</th>\n",
       "      <td>192.168.43.179</td>\n",
       "      <td>35.140.102.220</td>\n",
       "      <td>22</td>\n",
       "      <td>FTP</td>\n",
       "      <td>TCP</td>\n",
       "      <td>2821</td>\n",
       "      <td>Mozilla/5.0</td>\n",
       "      <td>Success</td>\n",
       "      <td>0</td>\n",
       "      <td>Normal</td>\n",
       "    </tr>\n",
       "  </tbody>\n",
       "</table>\n",
       "</div>"
      ],
      "text/plain": [
       "        Source_IP  Destination_IP  Port Request_Type Protocol  Payload_Size  \\\n",
       "0  192.168.142.55   42.156.67.167    80          FTP      UDP          2369   \n",
       "1    53.39.165.18   94.60.242.119   135         SMTP      UDP          1536   \n",
       "2  192.168.127.91      7.10.192.3    21         SMTP      TCP          1183   \n",
       "3   192.168.30.40  130.169.82.211    25        HTTPS      TCP           666   \n",
       "4  192.168.43.179  35.140.102.220    22          FTP      TCP          2821   \n",
       "\n",
       "    User_Agent   Status  Intrusion  Scan_Type  \n",
       "0  curl/7.68.0  Success          0     Normal  \n",
       "1  Wget/1.20.3  Failure          1  BotAttack  \n",
       "2  Wget/1.20.3  Success          0     Normal  \n",
       "3  Mozilla/5.0  Success          0     Normal  \n",
       "4  Mozilla/5.0  Success          0     Normal  "
      ]
     },
     "execution_count": 8,
     "metadata": {},
     "output_type": "execute_result"
    }
   ],
   "source": [
    "df.head()"
   ]
  },
  {
   "cell_type": "code",
   "execution_count": 9,
   "id": "19ed8a51",
   "metadata": {},
   "outputs": [
    {
     "data": {
      "text/html": [
       "<div>\n",
       "<style scoped>\n",
       "    .dataframe tbody tr th:only-of-type {\n",
       "        vertical-align: middle;\n",
       "    }\n",
       "\n",
       "    .dataframe tbody tr th {\n",
       "        vertical-align: top;\n",
       "    }\n",
       "\n",
       "    .dataframe thead th {\n",
       "        text-align: right;\n",
       "    }\n",
       "</style>\n",
       "<table border=\"1\" class=\"dataframe\">\n",
       "  <thead>\n",
       "    <tr style=\"text-align: right;\">\n",
       "      <th></th>\n",
       "      <th>Port</th>\n",
       "      <th>Request_Type</th>\n",
       "      <th>Protocol</th>\n",
       "      <th>Payload_Size</th>\n",
       "      <th>Status</th>\n",
       "      <th>Intrusion</th>\n",
       "      <th>Scan_Type</th>\n",
       "    </tr>\n",
       "  </thead>\n",
       "  <tbody>\n",
       "    <tr>\n",
       "      <th>0</th>\n",
       "      <td>80</td>\n",
       "      <td>FTP</td>\n",
       "      <td>UDP</td>\n",
       "      <td>2369</td>\n",
       "      <td>Success</td>\n",
       "      <td>0</td>\n",
       "      <td>Normal</td>\n",
       "    </tr>\n",
       "    <tr>\n",
       "      <th>1</th>\n",
       "      <td>135</td>\n",
       "      <td>SMTP</td>\n",
       "      <td>UDP</td>\n",
       "      <td>1536</td>\n",
       "      <td>Failure</td>\n",
       "      <td>1</td>\n",
       "      <td>BotAttack</td>\n",
       "    </tr>\n",
       "    <tr>\n",
       "      <th>2</th>\n",
       "      <td>21</td>\n",
       "      <td>SMTP</td>\n",
       "      <td>TCP</td>\n",
       "      <td>1183</td>\n",
       "      <td>Success</td>\n",
       "      <td>0</td>\n",
       "      <td>Normal</td>\n",
       "    </tr>\n",
       "    <tr>\n",
       "      <th>3</th>\n",
       "      <td>25</td>\n",
       "      <td>HTTPS</td>\n",
       "      <td>TCP</td>\n",
       "      <td>666</td>\n",
       "      <td>Success</td>\n",
       "      <td>0</td>\n",
       "      <td>Normal</td>\n",
       "    </tr>\n",
       "    <tr>\n",
       "      <th>4</th>\n",
       "      <td>22</td>\n",
       "      <td>FTP</td>\n",
       "      <td>TCP</td>\n",
       "      <td>2821</td>\n",
       "      <td>Success</td>\n",
       "      <td>0</td>\n",
       "      <td>Normal</td>\n",
       "    </tr>\n",
       "  </tbody>\n",
       "</table>\n",
       "</div>"
      ],
      "text/plain": [
       "   Port Request_Type Protocol  Payload_Size   Status  Intrusion  Scan_Type\n",
       "0    80          FTP      UDP          2369  Success          0     Normal\n",
       "1   135         SMTP      UDP          1536  Failure          1  BotAttack\n",
       "2    21         SMTP      TCP          1183  Success          0     Normal\n",
       "3    25        HTTPS      TCP           666  Success          0     Normal\n",
       "4    22          FTP      TCP          2821  Success          0     Normal"
      ]
     },
     "execution_count": 9,
     "metadata": {},
     "output_type": "execute_result"
    }
   ],
   "source": [
    "df = df.drop([\"User_Agent\",\"Source_IP\",\"Destination_IP\"],axis=1)\n",
    "df.head()"
   ]
  },
  {
   "cell_type": "code",
   "execution_count": 10,
   "id": "1fe47fce",
   "metadata": {},
   "outputs": [],
   "source": [
    "# Define the categorical columns to encode\n",
    "categorical_columns = [\"Request_Type\", \"Protocol\", \"Status\", \"Scan_Type\"]\n",
    "\n",
    "# Make a copy of the original DataFrame\n",
    "df_encoded = df.copy()\n",
    "\n",
    "# Apply Label Encoding to each column separately\n",
    "for col in categorical_columns:\n",
    "    encoder = LabelEncoder()\n",
    "    df_encoded[col] = encoder.fit_transform(df_encoded[col])"
   ]
  },
  {
   "cell_type": "code",
   "execution_count": 11,
   "id": "a82d6f73",
   "metadata": {},
   "outputs": [
    {
     "data": {
      "text/html": [
       "<div>\n",
       "<style scoped>\n",
       "    .dataframe tbody tr th:only-of-type {\n",
       "        vertical-align: middle;\n",
       "    }\n",
       "\n",
       "    .dataframe tbody tr th {\n",
       "        vertical-align: top;\n",
       "    }\n",
       "\n",
       "    .dataframe thead th {\n",
       "        text-align: right;\n",
       "    }\n",
       "</style>\n",
       "<table border=\"1\" class=\"dataframe\">\n",
       "  <thead>\n",
       "    <tr style=\"text-align: right;\">\n",
       "      <th></th>\n",
       "      <th>Port</th>\n",
       "      <th>Request_Type</th>\n",
       "      <th>Protocol</th>\n",
       "      <th>Payload_Size</th>\n",
       "      <th>Status</th>\n",
       "      <th>Intrusion</th>\n",
       "      <th>Scan_Type</th>\n",
       "    </tr>\n",
       "  </thead>\n",
       "  <tbody>\n",
       "    <tr>\n",
       "      <th>0</th>\n",
       "      <td>80</td>\n",
       "      <td>1</td>\n",
       "      <td>2</td>\n",
       "      <td>2369</td>\n",
       "      <td>1</td>\n",
       "      <td>0</td>\n",
       "      <td>1</td>\n",
       "    </tr>\n",
       "    <tr>\n",
       "      <th>1</th>\n",
       "      <td>135</td>\n",
       "      <td>4</td>\n",
       "      <td>2</td>\n",
       "      <td>1536</td>\n",
       "      <td>0</td>\n",
       "      <td>1</td>\n",
       "      <td>0</td>\n",
       "    </tr>\n",
       "    <tr>\n",
       "      <th>2</th>\n",
       "      <td>21</td>\n",
       "      <td>4</td>\n",
       "      <td>1</td>\n",
       "      <td>1183</td>\n",
       "      <td>1</td>\n",
       "      <td>0</td>\n",
       "      <td>1</td>\n",
       "    </tr>\n",
       "    <tr>\n",
       "      <th>3</th>\n",
       "      <td>25</td>\n",
       "      <td>3</td>\n",
       "      <td>1</td>\n",
       "      <td>666</td>\n",
       "      <td>1</td>\n",
       "      <td>0</td>\n",
       "      <td>1</td>\n",
       "    </tr>\n",
       "    <tr>\n",
       "      <th>4</th>\n",
       "      <td>22</td>\n",
       "      <td>1</td>\n",
       "      <td>1</td>\n",
       "      <td>2821</td>\n",
       "      <td>1</td>\n",
       "      <td>0</td>\n",
       "      <td>1</td>\n",
       "    </tr>\n",
       "  </tbody>\n",
       "</table>\n",
       "</div>"
      ],
      "text/plain": [
       "   Port  Request_Type  Protocol  Payload_Size  Status  Intrusion  Scan_Type\n",
       "0    80             1         2          2369       1          0          1\n",
       "1   135             4         2          1536       0          1          0\n",
       "2    21             4         1          1183       1          0          1\n",
       "3    25             3         1           666       1          0          1\n",
       "4    22             1         1          2821       1          0          1"
      ]
     },
     "execution_count": 11,
     "metadata": {},
     "output_type": "execute_result"
    }
   ],
   "source": [
    "df_encoded.head()"
   ]
  },
  {
   "cell_type": "code",
   "execution_count": 12,
   "id": "f7bd40ca",
   "metadata": {},
   "outputs": [],
   "source": [
    "X = df_encoded.drop(\"Scan_Type\",axis=1)\n",
    "y = df_encoded[\"Scan_Type\"]"
   ]
  },
  {
   "cell_type": "code",
   "execution_count": 13,
   "id": "74e4fc43",
   "metadata": {},
   "outputs": [],
   "source": [
    "scaler = StandardScaler()\n",
    "X_scaled = pd.DataFrame(scaler.fit_transform(X), columns=X.columns, index=X.index)"
   ]
  },
  {
   "cell_type": "markdown",
   "id": "68f4197a",
   "metadata": {},
   "source": [
    "SPLITTING THE DATA"
   ]
  },
  {
   "cell_type": "code",
   "execution_count": 14,
   "id": "6457f2d7",
   "metadata": {},
   "outputs": [],
   "source": [
    "from sklearn.model_selection import train_test_split\n",
    "\n",
    "X_train,X_test,y_train,y_test = train_test_split(X_scaled,y,random_state=42)"
   ]
  },
  {
   "cell_type": "markdown",
   "id": "f26a6193",
   "metadata": {},
   "source": [
    "MODEL IMPLEMETATION"
   ]
  },
  {
   "cell_type": "code",
   "execution_count": 15,
   "id": "22cd840a",
   "metadata": {},
   "outputs": [],
   "source": [
    "# Step 6: Train the KNN model\n",
    "knn = KNeighborsClassifier(n_neighbors=5)  # you can tune n_neighbors\n",
    "knn.fit(X_train, y_train)\n",
    "\n",
    "# Step 7: Make predictions\n",
    "y_pred = knn.predict(X_test)"
   ]
  },
  {
   "cell_type": "markdown",
   "id": "46773c06",
   "metadata": {},
   "source": [
    "EVALUATION"
   ]
  },
  {
   "cell_type": "markdown",
   "id": "555634f7",
   "metadata": {},
   "source": [
    "BASIC METRICS"
   ]
  },
  {
   "cell_type": "code",
   "execution_count": 16,
   "id": "85d9ab77",
   "metadata": {},
   "outputs": [
    {
     "name": "stdout",
     "output_type": "stream",
     "text": [
      "Accuracy: 0.9968354430379747\n",
      "Precision (macro): 0.9773462783171522\n",
      "Recall (macro): 0.9779874213836478\n",
      "F1 Score (macro): 0.9768925930465334\n",
      "\n",
      "Classification Report:\n",
      "               precision    recall  f1-score   support\n",
      "\n",
      "           0       1.00      0.93      0.97       106\n",
      "           1       1.00      1.00      1.00      2010\n",
      "           2       0.93      1.00      0.96        96\n",
      "\n",
      "    accuracy                           1.00      2212\n",
      "   macro avg       0.98      0.98      0.98      2212\n",
      "weighted avg       1.00      1.00      1.00      2212\n",
      "\n"
     ]
    }
   ],
   "source": [
    "print(\"Accuracy:\", accuracy_score(y_test, y_pred))\n",
    "print(\"Precision (macro):\", precision_score(y_test, y_pred, average='macro'))\n",
    "print(\"Recall (macro):\", recall_score(y_test, y_pred, average='macro'))\n",
    "print(\"F1 Score (macro):\", f1_score(y_test, y_pred, average='macro'))\n",
    "print(\"\\nClassification Report:\\n\", classification_report(y_test, y_pred))"
   ]
  },
  {
   "cell_type": "markdown",
   "id": "405e6973",
   "metadata": {},
   "source": [
    "CONFUSION MATRIX"
   ]
  },
  {
   "cell_type": "code",
   "execution_count": 17,
   "id": "f5021684",
   "metadata": {},
   "outputs": [
    {
     "data": {
      "image/png": "[encoded data removed]",
      "text/plain": [
       "<Figure size 800x600 with 2 Axes>"
      ]
     },
     "metadata": {},
     "output_type": "display_data"
    }
   ],
   "source": [
    "cm = confusion_matrix(y_test, y_pred)\n",
    "plt.figure(figsize=(8, 6))\n",
    "sns.heatmap(cm, annot=True, fmt=\"d\", cmap=\"Blues\", xticklabels=knn.classes_, yticklabels=knn.classes_)\n",
    "plt.xlabel(\"Predicted\")\n",
    "plt.ylabel(\"Actual\")\n",
    "plt.title(\"Confusion Matrix\")\n",
    "plt.show()"
   ]
  }
 ],
 "metadata": {
  "kernelspec": {
   "display_name": "base",
   "language": "python",
   "name": "python3"
  },
  "language_info": {
   "codemirror_mode": {
    "name": "ipython",
    "version": 3
   },
   "file_extension": ".py",
   "mimetype": "text/x-python",
   "name": "python",
   "nbconvert_exporter": "python",
   "pygments_lexer": "ipython3",
   "version": "3.12.7"
  }
 },
 "nbformat": 4,
 "nbformat_minor": 5
}
